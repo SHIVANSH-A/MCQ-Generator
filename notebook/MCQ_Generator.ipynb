{
  "nbformat": 4,
  "nbformat_minor": 0,
  "metadata": {
    "colab": {
      "provenance": []
    },
    "kernelspec": {
      "name": "python3",
      "display_name": "Python 3"
    },
    "language_info": {
      "name": "python"
    }
  },
  "cells": [
    {
      "cell_type": "code",
      "execution_count": 4,
      "metadata": {
        "id": "skJahsZXR47D"
      },
      "outputs": [],
      "source": [
        "import spacy\n",
        "import random\n",
        "from collections import Counter"
      ]
    },
    {
      "cell_type": "code",
      "source": [
        "nlp = spacy.load('en_core_web_sm') #en_core_web_sm  is link which contains all the functions of npl"
      ],
      "metadata": {
        "colab": {
          "base_uri": "https://localhost:8080/"
        },
        "id": "sclUvBQzTJBa",
        "outputId": "6ed23c21-0957-4855-99ef-2e4b99856e24"
      },
      "execution_count": 31,
      "outputs": [
        {
          "output_type": "stream",
          "name": "stderr",
          "text": [
            "/usr/local/lib/python3.11/dist-packages/spacy/util.py:1740: UserWarning: [W111] Jupyter notebook detected: if using `prefer_gpu()` or `require_gpu()`, include it in the same cell right before `spacy.load()` to ensure that the model is loaded on the correct device. More information: http://spacy.io/usage/v3#jupyter-notebook-gpu\n",
            "  warnings.warn(Warnings.W111)\n"
          ]
        }
      ]
    },
    {
      "cell_type": "code",
      "source": [
        "def generate_mcqs(text,num_questions=5):\n",
        "  doc = nlp(text) #Convert text to doc\n",
        "  sentences =[]\n",
        "  for sent in doc.sents:  # Iterate over each sentence in the doc and separatly add it to senetences\n",
        "      sentences.append(sent.text)\n",
        "  selected_sentences = random.sample(sentences,min(num_questions,len(sentences))) #select num_questions of random sentences from all sentences\n",
        "  mcqs = []\n",
        "\n",
        "  for sentence in selected_sentences:\n",
        "    sentence = sentence.lower() # convert it to lower as pos only works with lower\n",
        "    sent_doc = nlp(sentence) #Convert text to doc object\n",
        "    nouns = [token.text for token in sent_doc if token.pos_ == \"NOUN\"] #Extract nouns from each senetence and stores in list\n",
        "\n",
        "    if len(nouns)<2:\n",
        "      continue\n",
        "\n",
        "    noun_count = Counter(nouns)\n",
        "    if noun_count:\n",
        "      subject = noun_count.most_common(1)[0][0] #Subject can be most frequent or which comes first\n",
        "      question_stem = sentence.replace(subject,\"___\") #replace subject with ___\n",
        "\n",
        "      fallback_nouns = [\"grape\", \"mango\", \"peach\", \"pineapple\", \"strawberry\"]\n",
        "\n",
        "      answer_choices = [subject]  # Ensure the correct answer is included\n",
        "      selected_distractors = set([subject])  # Track selected options\n",
        "\n",
        "      # Generate distractors from available nouns\n",
        "      for _ in range(3):\n",
        "          remaining_nouns = list(set(nouns) - selected_distractors)\n",
        "\n",
        "          if remaining_nouns:  # Use sentence nouns if available\n",
        "              distractor = random.choice(remaining_nouns)\n",
        "          else:  # Pick from fallback list if not enough nouns in sentence\n",
        "              distractor = random.choice(list(set(fallback_nouns) - selected_distractors))\n",
        "\n",
        "          answer_choices.append(distractor)\n",
        "          selected_distractors.add(distractor)  # Mark as used\n",
        "\n",
        "      # Ensure we have exactly 4 options\n",
        "      while len(answer_choices) < 4:\n",
        "          extra_distractor = random.choice(list(set(fallback_nouns) - selected_distractors))\n",
        "          answer_choices.append(extra_distractor)\n",
        "          selected_distractors.add(extra_distractor)\n",
        "\n",
        "      random.shuffle(answer_choices)  # Shuffle options for randomness\n",
        "\n",
        "      correct_answer = chr(64 + answer_choices.index(subject) + 1) #Gets option in alphabet from ascii of subject index\n",
        "      mcqs.append((question_stem,answer_choices,correct_answer))\n",
        "  return mcqs\n",
        "\n"
      ],
      "metadata": {
        "id": "Zr3gcwuBUJjR"
      },
      "execution_count": 41,
      "outputs": []
    },
    {
      "cell_type": "code",
      "source": [
        "text = \"\"\"The main stem of the Ganges begins at the town of Devprayag,at the confluence of the Alaknanda, which is the source stream in hydrology on account of its greater length, and the Bhagirathi, which is considered the source stream in Hindu mythology.\n",
        "The Ganges is a lifeline to hundreds of millions of people who\n",
        "live in its basin and depend on it for their daily needs.\n",
        "It has been important historically, with many former provincial or imperial capitals such as Pataliputra,Kannauj,Sonargaon, Dhaka, Bikrampur, Kara, Munger, Kashi, Patna, Hajipur, Kanpur, Delhi, Bhagalpur, Murshidabad, Baharampur, Kampilya, and Kolkata located on its banks or those of its tributaries and connected waterways. The river is home to approximately 140 species of fish, 90 species of amphibians, and also reptiles and mammals, including critically endangered species such as the gharial and South Asian river dolphin.The Ganges is the most sacred river to Hindus.\n",
        "It is worshipped as the goddess Ganga in Hinduism.\"\"\"\n",
        "\n",
        "results = generate_mcqs(text,num_questions=5)\n",
        "\n",
        "for i, mcq in enumerate(results):\n",
        "  question_stem,answer_choices,correct_answer = mcq\n",
        "  print(f\"Q{i+1}: {question_stem}\")\n",
        "\n",
        "  for j,choice in enumerate(answer_choices):\n",
        "    print(f\"{chr(65+j)}. {choice}\")\n",
        "  print(f\"Correct answer: {correct_answer}\")\n",
        "  print()"
      ],
      "metadata": {
        "colab": {
          "base_uri": "https://localhost:8080/"
        },
        "id": "lZgbbMoGXTfy",
        "outputId": "66c950e3-11ba-4724-8f07-0313326ebf81"
      },
      "execution_count": 42,
      "outputs": [
        {
          "output_type": "stream",
          "name": "stdout",
          "text": [
            "Q1: the river is home to approximately 140 ___ of fish, 90 ___ of amphibians, and also reptiles and mammals, including critically endangered ___ such as the gharial and south asian river dolphin.\n",
            "A. species\n",
            "B. reptiles\n",
            "C. amphibians\n",
            "D. mammals\n",
            "Correct answer: A\n",
            "\n",
            "Q2: the main stem of the ganges begins at the town of devprayag,at the confluence of the alaknanda, which is the ___ stream in hydrology on account of its greater length, and the bhagirathi, which is considered the ___ stream in hindu mythology.\n",
            "\n",
            "A. town\n",
            "B. hydrology\n",
            "C. bhagirathi\n",
            "D. source\n",
            "Correct answer: D\n",
            "\n",
            "Q3: the ___ is a lifeline to hundreds of millions of people who \n",
            "live in its basin and depend on it for their daily needs.\n",
            "\n",
            "A. needs\n",
            "B. ganges\n",
            "C. people\n",
            "D. hundreds\n",
            "Correct answer: B\n",
            "\n",
            "Q4: the ___ is the most sacred river to hindus.\n",
            "\n",
            "A. river\n",
            "B. hindus\n",
            "C. grape\n",
            "D. ganges\n",
            "Correct answer: D\n",
            "\n",
            "Q5: it has been important historically, with many former provincial or imperial ___ such as pataliputra,kannauj,sonargaon, dhaka, bikrampur, kara, munger, kashi, patna, hajipur, kanpur, delhi, bhagalpur, murshidabad, baharampur, kampilya, and kolkata located on its banks or those of its tributaries and connected waterways.\n",
            "A. bikrampur\n",
            "B. waterways\n",
            "C. capitals\n",
            "D. tributaries\n",
            "Correct answer: C\n",
            "\n"
          ]
        }
      ]
    },
    {
      "cell_type": "code",
      "source": [],
      "metadata": {
        "id": "XBJiXionfO1x"
      },
      "execution_count": null,
      "outputs": []
    }
  ]
}